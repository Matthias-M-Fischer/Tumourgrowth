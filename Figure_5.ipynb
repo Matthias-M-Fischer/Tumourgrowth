{
 "cells": [
  {
   "cell_type": "markdown",
   "metadata": {},
   "source": [
    "# Overview"
   ]
  },
  {
   "cell_type": "code",
   "execution_count": 1,
   "metadata": {},
   "outputs": [],
   "source": [
    "#File Name: Figure_6.ipynb\n",
    "#Author: Matthias M. Fischer\n",
    "#Last Revision: 17th March 2022\n",
    "#Changelog: Initial Version.\n",
    "\n",
    "#This file contains the complete commented source code\n",
    "#for reproducing all plots from Figure 6 of the manuscript\n",
    "#by Fischer and Blüthgen."
   ]
  },
  {
   "cell_type": "markdown",
   "metadata": {},
   "source": [
    "# Setup"
   ]
  },
  {
   "cell_type": "code",
   "execution_count": 1,
   "metadata": {},
   "outputs": [],
   "source": [
    "# Library imports\n",
    "\n",
    "import matplotlib.pyplot as plt\n",
    "import seaborn as sns\n",
    "%matplotlib inline\n",
    "import numpy as np\n",
    "import pandas as pd\n",
    "import tqdm"
   ]
  },
  {
   "cell_type": "code",
   "execution_count": 2,
   "metadata": {},
   "outputs": [],
   "source": [
    "# Convenience function:\n",
    "# Return the maximum real part of all\n",
    "# eigenvalues of a given matrix M\n",
    "\n",
    "def lambdamax(M):\n",
    "    return np.max(np.real(np.linalg.eigvals(M)))"
   ]
  },
  {
   "cell_type": "code",
   "execution_count": 3,
   "metadata": {},
   "outputs": [],
   "source": [
    "# Return the coefficient matrix A describing\n",
    "# the model where all NSCC compartments\n",
    "# dedifferentiate\n",
    "\n",
    "def A(K_C=1.0,                                        # CSC cycling rate\n",
    "      K_N=1.0,                                        # NSCC cycling rate\n",
    "      K_T=0.05,                                       # Dedifferentiation rate\n",
    "      DeltaP = 0.18,                                  # Aggregate CSC fate choice parameter, Delta P := P_S - P_D\n",
    "      D_C=0.05,                                       # CSC apoptosis rate\n",
    "      D_N=0.05,                                       # NSCC apoptosis rate\n",
    "      M=7):                                           # Number NSCC compartments\n",
    "    \n",
    "    beta = DeltaP*K_C - D_C                           # CSC compartment net growth rate\n",
    "    iota = (1-DeltaP)*K_C                             # Influx rate compartment N_1, in multiples of C(t)\n",
    " \n",
    "    A = np.zeros((M+1, M+1))                          # Initialise coefficient matrix A\n",
    "    A[0,0] = beta                                     # A_{1,1} := beta\n",
    "    A[1,0] = iota                                     # A_{2,1} := iota\n",
    "    \n",
    "    for i in range(1, M+1):                           # A_{1,i} := K_T for i in [2...M]\n",
    "        A[0,i] = K_T\n",
    "    \n",
    "    for i in range(1, M):                             # A_{i,i} := -K_N - K_T - D_N for i in [1,M-1]\n",
    "        A[i,i] = -K_N - K_T - D_N\n",
    "    \n",
    "    A[M,M] = -K_T - D_N                               # A_{M+1, M+1} := -K_T - D_N\n",
    "    \n",
    "    for i in range(2,M+1):                            # A_{i, i-1} := 2*K_N for i in [2, M]\n",
    "        A[i,i-1] = 2*K_N\n",
    "        \n",
    "    return A"
   ]
  },
  {
   "cell_type": "code",
   "execution_count": 4,
   "metadata": {},
   "outputs": [],
   "source": [
    "# For a given system parametrisation, quantify\n",
    "# the interaction d_{X,Y}^{rel} between two\n",
    "# treatments\n",
    "\n",
    "def calculate_interaction_vector(params, h = 1e-6):\n",
    "    e = [                                                                     # Unit vectors \"in treatment direction\"\n",
    "         np.array([-1,0,0,0,0,0]),                                            # K_C is lowered during treatment\n",
    "         np.array([0,-1,0,0,0,0]),                                            # K_N is lowered during treatment\n",
    "         np.array([0,0,-1,0,0,0]),                                            # K_T is lowered during treatment\n",
    "         np.array([0,0,0,-1,0,0]),                                            # DeltaP is lowered during treatment\n",
    "         np.array([0,0,0,0,+1,0]),                                            # D_C is increased during treatment\n",
    "         np.array([0,0,0,0,0,+1])                                             # D_N is increased during treatment\n",
    "    ]\n",
    "    \n",
    "    S = []                                                                    # Result to be stored here\n",
    "\n",
    "    M_baseline = params[-1]                                                   # Split parameter vector: M and rest,\n",
    "    params_baseline = np.array(params[:-1])                                   # as we do not perturb integer M\n",
    "\n",
    "    f = lambda p: lambdamax(A(*p, M=M_baseline))                              # Convenience function for evaluation\n",
    "    \n",
    "    for i in range(len(params_baseline)):                                     # For all parameter pairs:\n",
    "        for j in range(len(params_baseline)):\n",
    "            params_i = params_baseline + h*e[i]                               # Perturb i\n",
    "            params_j = params_baseline + h*e[j]                               # Perturb j\n",
    "            params_ij = params_baseline + h*e[i] + h*e[j]                     # Perturb both\n",
    "            \n",
    "            # Compute directional second derivative\n",
    "            deriv = (f(params_ij)-f(params_i)-f(params_j)+f(params_baseline))/(h**2)\n",
    "            # Compute relative interaction\n",
    "            s = deriv * params_baseline[i] * params_baseline[j] / (f(params_baseline)**2)\n",
    "            S.append(s)\n",
    "    \n",
    "    return S\n"
   ]
  },
  {
   "cell_type": "code",
   "execution_count": 5,
   "metadata": {},
   "outputs": [],
   "source": [
    "# Return a set of randomly drawn system parameters\n",
    "\n",
    "def draw_parameter_set(K_C_range = (0.5, 1.5),                           # The sampling ranges of all parameter values\n",
    "                 K_N_range = (0.5, 1.5),\n",
    "                 K_T_range = (0, 0.1),\n",
    "                 DeltaP_range = (0.01, 0.35),\n",
    "                 D_C_range = (0, 0.1),\n",
    "                 D_N_range = (0, 0.1),\n",
    "                 M_range = (3, 11)):\n",
    "        \n",
    "    K_C = np.random.uniform(K_C_range[0], K_C_range[1])                  # Sampling\n",
    "    K_N = np.random.uniform(K_N_range[0], K_N_range[1])\n",
    "    K_T = np.random.uniform(K_T_range[0], K_T_range[1])\n",
    "    DeltaP = np.random.uniform(DeltaP_range[0], DeltaP_range[1])           \n",
    "    M = int (np.random.uniform(M_range[0], M_range[1]))        \n",
    "    D_C = np.random.uniform(D_C_range[0], D_C_range[1])\n",
    "    D_N = np.random.uniform(D_N_range[0], D_N_range[1])\n",
    "\n",
    "    return K_C, K_N, K_T, DeltaP, D_C, D_N, M"
   ]
  },
  {
   "cell_type": "code",
   "execution_count": 6,
   "metadata": {},
   "outputs": [],
   "source": [
    "def simulate_cohort(n = 1000,                                           # Nb. of virtual patients to simulate\n",
    "                    random_seed = 0):                                   # Random seed for reproducibility\n",
    "    \n",
    "    results = []                                                        # Results to be stored here\n",
    "    np.random.seed(random_seed)                                         # Set random seed\n",
    "    \n",
    "    with tqdm.tqdm(total = n) as pbar:                                  # Progress bar\n",
    "        while len(results) < n:                                         # As long as we need more patients:\n",
    "            params = draw_parameter_set()                               # Draw new parameter vector\n",
    "            K_C, K_N, K_T, DeltaP, D_C, D_N, M = params                 # Split it into individual variables\n",
    "            \n",
    "            lambda_baseline = lambdamax(A(*params))                     # Check if patient is eligible\n",
    "            beta = DeltaP*K_C - D_C\n",
    "            if 0.01 < lambda_baseline < 0.2 and beta > 0:            \n",
    "                sensitivities = calculate_interaction_vector(params)    # If so, calculate parameter interactions\n",
    "                results.append(sensitivities)\n",
    "                pbar.update(1)\n",
    "            \n",
    "        \n",
    "    return results    "
   ]
  },
  {
   "cell_type": "markdown",
   "metadata": {},
   "source": [
    "# Figure 6B"
   ]
  },
  {
   "cell_type": "code",
   "execution_count": 7,
   "metadata": {},
   "outputs": [
    {
     "name": "stderr",
     "output_type": "stream",
     "text": [
      "100%|███████████████████████████████████████████████████████████████████████████████████████████████████████████████████████████████████████████████████████████████████████████████████████████████████| 1000/1000 [00:17<00:00, 57.48it/s]\n"
     ]
    },
    {
     "data": {
      "text/plain": [
       "Text(38.199999999999996, 0.5, '$\\\\mathrm{Parameter \\\\; }y$')"
      ]
     },
     "execution_count": 7,
     "metadata": {},
     "output_type": "execute_result"
    },
    {
     "data": {
      "image/png": "[encoded data removed]",
      "text/plain": [
       "<Figure size 504x504 with 2 Axes>"
      ]
     },
     "metadata": {
      "needs_background": "light"
     },
     "output_type": "display_data"
    }
   ],
   "source": [
    "# Calculate pairwise parameter interactions from virtual cohort\n",
    "interactions = simulate_cohort()\n",
    "\n",
    "# Calculate the distribution means\n",
    "means = list(map(np.mean, zip(*interactions)))\n",
    "\n",
    "# Convert to a 6X6 matrix, \n",
    "# while also changing the order of the entries for the heatmap\n",
    "hm_mean = np.zeros((6,6))\n",
    "parameter_order = [0, 3, 4, 1, 5, 2]\n",
    "for i in range(6):\n",
    "    for j in range(6):\n",
    "        hm_mean[i,j] = means[6*parameter_order[i]+parameter_order[j]]\n",
    "\n",
    "# Proper annotation\n",
    "hm_mean = pd.DataFrame(hm_mean)\n",
    "hm_mean.columns = [\"$K_C$\", \"$\\Delta P$\", \"$D_C$\", \"$K_N$\", \"$D_N$\", \"$K_T$\"]\n",
    "hm_mean.index = [\"$K_C$\", \"$\\Delta P$\", \"$D_C$\", \"$K_N$\", \"$D_N$\", \"$K_T$\"]\n",
    "\n",
    "# Plot\n",
    "plt.subplots(1,1,figsize=(7,7))\n",
    "sns.heatmap(hm_mean.T, mask=np.triu(np.ones_like(hm_mean), k=0),\n",
    "            cmap=\"bwr\", center=0, vmin=-7, vmax=7, square=True,\n",
    "            annot=True, annot_kws={'fontsize': 18}, fmt=\".2f\",\n",
    "            cbar_kws = {'label': r'$d^{rel}_{x,y}$'})\n",
    "plt.xlabel(r\"$\\mathrm{Parameter \\; }y$\", fontsize=20)\n",
    "plt.ylabel(r\"$\\mathrm{Parameter \\; }y$\", fontsize=20)"
   ]
  },
  {
   "cell_type": "markdown",
   "metadata": {},
   "source": [
    "# Figure 6C"
   ]
  },
  {
   "cell_type": "code",
   "execution_count": 8,
   "metadata": {},
   "outputs": [
    {
     "data": {
      "text/plain": [
       "[Text(1, 0, '$\\\\Delta P, K_C$'),\n",
       " Text(2, 0, '$\\\\Delta P, D_N$'),\n",
       " Text(3, 0, '$\\\\Delta P, K_T$')]"
      ]
     },
     "execution_count": 8,
     "metadata": {},
     "output_type": "execute_result"
    },
    {
     "data": {
      "image/png": "[encoded data removed]",
      "text/plain": [
       "<Figure size 432x288 with 1 Axes>"
      ]
     },
     "metadata": {
      "needs_background": "light"
     },
     "output_type": "display_data"
    }
   ],
   "source": [
    "# Extract the three distributions we want to plot\n",
    "# from the data of the previous section\n",
    "d_rel_DeltaP_K_C = [l[3] for l in interactions]\n",
    "d_rel_DeltaP_D_N = [l[23] for l in interactions]\n",
    "d_rel_DeltaP_K_T = [l[20] for l in interactions]\n",
    "\n",
    "# Plot distributions\n",
    "fig, ax = plt.subplots()\n",
    "plt.violinplot([d_rel_DeltaP_K_C, d_rel_DeltaP_D_N, d_rel_DeltaP_K_T],\n",
    "             showmeans=True, widths=.6, vert=True)\n",
    "\n",
    "# Aesthetics\n",
    "plt.yscale(\"symlog\")\n",
    "plt.hlines([0], 0.5, 3.5, linestyle=\"-\", color=\"lightgrey\")\n",
    "plt.ylim((-100, 1000))\n",
    "plt.xlabel(r\"$\\mathrm{Treatment \\ Combination}$\", fontsize=20)\n",
    "plt.ylabel(r\"$\\mathrm{Interaction \\ } d^{rel}_{x,y}$\", fontsize=20)\n",
    "plt.xticks([1,2,3])\n",
    "ax.set_xticklabels([r\"$\\Delta P, K_C$\", r\"$\\Delta P, D_N$\", r\"$\\Delta P, K_T$\"])\n"
   ]
  }
 ],
 "metadata": {
  "kernelspec": {
   "display_name": "Python 3 (ipykernel)",
   "language": "python",
   "name": "python3"
  },
  "language_info": {
   "codemirror_mode": {
    "name": "ipython",
    "version": 3
   },
   "file_extension": ".py",
   "mimetype": "text/x-python",
   "name": "python",
   "nbconvert_exporter": "python",
   "pygments_lexer": "ipython3",
   "version": "3.10.2"
  }
 },
 "nbformat": 4,
 "nbformat_minor": 2
}
